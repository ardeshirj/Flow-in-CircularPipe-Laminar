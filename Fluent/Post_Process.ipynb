{
 "cells": [
  {
   "cell_type": "markdown",
   "metadata": {},
   "source": [
    "# CFD Results Post-Process\n",
    "\n",
    "**The final step for the development of a CFD simulation for a problem of interest is to process and examine the validity of the obtained numerical results (a.k.a post-processing and validation step). This steps requires an in-depth engineering knowledge about the fundamentals of the physical problem of interest. Thus, the value of investing time in understanding the fundamental physics of the flow, once again is highlighted here. This process is done starting from general inspection on CFD simulation results and ends with more detail validation process.**\n",
    "\n",
    "The first general rule of thumb to check the convergence of a CFD simulation is to visualize the residuals for key flow variables, such as continuity, velocity and etc.. In order to plot residual values in ANSYS FLUENT do: `plot/residual` and choose the residual values of interest to plot.\n",
    "\n",
    "<img src=\"./Images/residuals.png\" width=\"550\">\n",
    "\n",
    "Figure 4 visualizes the residual values of continuity and streamwise velocity versus the number of iterations. The general decreasing trend of residual values confirm that the numerical solution of the conservation/governing equations are converging to specific final values. Usually the residual for the mass decreases with the slower rate compare to other residual values. Therefore, a continuity residual of 10E-3, is the first necessary, but not sufficient, general criteria to confirm the convergence of the CFD simulation in general. In this case this criteria is reached after about 50 iterations and after about 500 iterations the continuity residuals reached value of 10E-12, which is a solid confirmation of CFD simulation convergence.\n",
    "\n",
    "The second step is to visualize dimensionless form of the important variables within the CFD domain. This step can be problem specific and should be done on an adequate plane of choice. For most of the problems contour of normalized velocity or pressure is on a horizontal or vertical plane at the center of the CFD domain is a good start point.\n",
    "The path to define an adequate plane is `surface/plane-bounded`. This command will ask for coordinate of three different points within the domain to create the plane. For the current CFD domain to define a vertical plane from inlet to 5D downstream the coordinates will be as follows:\n",
    "\n",
    " |x|y|z\n",
    "---|---|---|---\n",
    "Point 1|0|0|0.05\n",
    "Point 2|0|0|-0.05\n",
    "Point 3|0.5|0|0.05\n",
    "\n",
    "Once the plane is created one should define the normalized variable of interest. To define the normalized streamwise velocity, by the inlet velocity we will have `define/custom-field-functions/define`, name your variable (i.e. normalized_streamwise_velocity) and put the following formula `x_velocity/0.01`. This will calculate the normalized streamwise velocity within the CFD domain. At this stage the command `display/contour/normalized_streamwise_velocity` will ask you for a range (i.e. [0,2]) and visualizes the velocity contours for you as shown in figure 6:\n",
    "\n",
    "<img src=\"./Images/velocity_cont.png\" width=\"500\" align=\"middle\">\n",
    "\n",
    "As shown in this figure, the flow enters the domain with normalized velocity of 1. Due to the imposed no slip boundary conditions on the pipe's walls, the velocity instantly decrease to zero at this region. Due to this extreme change of momentum within the vertical direction there is going to be a region at the entrance of the pipe where the flow evolves in the streamwise direction. This specific length is referred to as the entrance length. After the entrance length the velocity profile becomes fully developed and uniform to the end of the channel.\n",
    "It should also be highlighted that this velocity contour is smooth. The smoothness confirms the validity of created mesh resolution and convergence of the numerical solution. However, this is an additional necessary, but not sufficient criteria for simulation validity and convergence.\n",
    "\n",
    "**After performing the general post-processing steps, the user need to perform more detail oriented post-processing to confirm the validity of the CFD simulation. This stage can be a state-of-the-art. Comparing the numerical results against the theory (discussed earlier) or any other available experimental results is the final stage of post-processing. It is extremely important to calculate the correct corresponding numerical variables and compare them against the experimental or other numerical data.**\n",
    "\n",
    "In order to visualize the evolution of the velocity along the flow one should look at the velocity magnitude at different stations downstream the pipe. Since the flow is axi-symmetric each station is defined as a vertical line at different distances downstream the pipe. One can use `surface/line-surface` command to enter the start and end point of each measurement station as shown in the following table, where D is the distance downstream in terms of diameter:\n",
    "\n",
    "x-coordinates | y-coordinates | z-coordinates\n",
    "----------------|------------|--------------\n",
    "$x_0$ (m) = x * D  | $y_0$ (m) = 0 | $z_0$ (m)=  0.05\n",
    "$x_1$ (m) = x * D  | $y_1$ (m) = 0 | $z_1$ (m)= -0.05\n",
    "\n",
    "Now one can open a file via `plot/file-set/plot-to-file` and define a name for it (e.g. velocity_field_140000_elements.txt). Using the command `plot/solution`, choose the variable of interest and write it from the created surfaces above. This would export the velocity values along each pre-defined station into a text file. Using a simple script (e.g. pre-written Python script <Add download link here>) one can visualize the exported numerical results as shown in figure:\n",
    "\n",
    "<img src=\"./Images/velocity_profiles.png\" width=\"600\">\n",
    "\n",
    "Figure 7 visualize the numerically predicted velocity profiles along the pipe at 1, 3, 25 and 45 diameters downstream. These results show that velocity evolves along the pipe, during the entrance length and become fully developed. As shown in figure 7 velocity profiles at 25 and 45 diameter downstream perfectly match each other. This confirms the fully developed velocity field.\n",
    "\n",
    "As the next step for validation user can compare the numerically predicted fully developed velocity profile against the theoretically derived equation parabolic velocity profile. This step is also implemented in the pre-written python scrip.\n",
    "\n",
    "<img src=\"./Images/velocity_profiles_comparison.png\" width=\"600\">\n",
    "\n",
    "Figure 8 visualizes a comparison between the numerical and theoretical results for the fully developed velocity profiles at 25D downstream. As shown in this figure numerical results perfectly matches the theoretical results. As the final step for CFD simulation validation user can compare the numerically estimated pressure gradient per unit length ($\\frac{dp}{dx}$) between the inlet and outlet of the pipe using `report\\surface-integrals\\integral` and compare it against the theoretically derived Hagen–Poiseuille equation (i.e. the last equation derived in Physics section). The following table shows this comparison for the current CFD simulations. The relative error of less than 2% confirms the validity of the obtained numerical results.\n",
    "\n",
    "\n",
    " |Theory|CFD|Relative Error [%]\n",
    "---|---|---|---\n",
    "$-\\frac{dP}{dx}$|5.73e-4|5.80e-4|1.22\n",
    "\n",
    "\n",
    "At this stage one can conclude that this CFD numerical simulation is validated to study laminar flow in circular pipes. Therefore, it can be used for similar or more complex problems, such as flow with specified pressure gradient, non-uniform velocity profiles and etc.. This can be done via correct implementation in changing the corresponding boundary conditions.\n"
   ]
  },
  {
   "cell_type": "code",
   "execution_count": null,
   "metadata": {
    "collapsed": true
   },
   "outputs": [],
   "source": []
  }
 ],
 "metadata": {
  "kernelspec": {
   "display_name": "Python 3",
   "language": "python",
   "name": "python3"
  },
  "language_info": {
   "codemirror_mode": {
    "name": "ipython",
    "version": 3
   },
   "file_extension": ".py",
   "mimetype": "text/x-python",
   "name": "python",
   "nbconvert_exporter": "python",
   "pygments_lexer": "ipython3",
   "version": "3.5.2"
  }
 },
 "nbformat": 4,
 "nbformat_minor": 0
}
