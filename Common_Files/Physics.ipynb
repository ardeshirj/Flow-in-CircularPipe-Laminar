{
 "cells": [
  {
   "cell_type": "markdown",
   "metadata": {},
   "source": [
    "# CFD Problem's Physics & Theory\n",
    "\n",
    "**In developing CFD simulation for a fluid mechanic problem understanding the general physics and fundamental theory of the problem is extremely important. This knowledge would provide users the ability to make logical decision about the geometry of CFD domain, choice of proper boundary conditions and numerical models for the CFD simulation. Furthermore, user will have a general big picture on the expected outcome of simulation. These knowledges and abilities form the foundation for a successful implementation and validation of the CFD simulation.**\n",
    "\n",
    "**In other words understanding physics and theory of problem before developing a CFD simulation can be thought of turning on a flash light before taking any step in a completely dark room. Hence, let's review the fundamental physics and theory behind the problem of \"3D Laminar Flow in a Circular Pipe.\" as the first step for development and validation of CFD simulation for this problem of interest:**\n",
    "\n",
    "The general form of the Navier-Stokes equation as follows:\n",
    "\n",
    "$$ \\frac{DV}{Dt} = -\\frac{1}{\\rho} \\nabla p + g + \\nu \\nabla ^2 V $$\n",
    "\n",
    "This equation indicates that the material derivative of the velocity field (i.e. the summation of external forces per unit mass in a Lagrangian reference frame) is balanced with the summation of pressure, body and viscous forces per unit mass within the flow field. For the case of laminar flow in pipes, in most of the engineering applications the incoming flow into the pipe has an almost constant and uniform velocity. However, it is probable that the incoming flow velocity has some temporal fluctuations. In these cases these fluctuations should be estimated to declare the degree of steadiness of the flow. In generic cases the assumption of steady/uniform flow or flow with minor temporal fluctuations is a reasonable assumption. Furthermore, considering a horizontal pipe flow, the effect of body forces can become negligible. Applying these two assumptions the Navier-Stokes equation will be reduced to:\n",
    "\n",
    "$$ 0 = -\\frac{1}{\\rho} \\nabla p + \\nu \\nabla ^2 V $$\n",
    "\n",
    "\n",
    "Once the flow enters the pipe due to the no-slip boundary conditions at the walls of the pipe, the fluid velocity will instantly become zero. This results into a strong velocity gradient across the entrance length of the pipe and strongly effects the velocity field in this region. This interaction between fluid element and solid walls forms a thin layer called Boundary Layer close to the walls of the pipe. In this region the flow field behavior is complex and three dimensional. Moving further downstream the two boundary layers merge with each other and the velocity gradient becomes smoother. The velocity profile get a parabolic shape and the flow becomes \"fully developed\". This short region is referred to as the \"entrance region\". The normalized length of this region with pipe's diameter for laminar flows is experimentally related to the Reynolds number, based on the pipe's diameter, with the following equation:\n",
    "\n",
    "$$\\frac{L_e}{D} = 0.06 * Re_D$$\n",
    "\n",
    "For a fully developed flow, it can be assumed that velocity and pressure field variation in any directions other than the streamwise direction (i.e. x-direction in this problem) will become negligible. Therefore, the Navier-Stokes equation in cylindrical coordinates can be further reduced to:\n",
    "\n",
    "$$\\frac{1}{\\rho} \\frac{dp}{dx} = \\frac{\\nu}{r} \\frac{d}{dr} (r \\frac{du}{dr})$$\n",
    "\n",
    "In order to solve the above equation, to obtain the general velocity profile and pressure drop across the pipe we consider:\n",
    "\n",
    "$$ \\frac{dp}{dx} = -K' $$\n",
    "\n",
    "$$ \\frac{\\nu}{r} \\frac{d}{dr} (r \\frac{du}{dr}) = -K' $$\n",
    "\n",
    "Integration of this equation will result into the general velocity profiles with two constants values. Applying two of the the following boundary conditions of the flow field:\n",
    "\n",
    "$$~ ~ ~ ~ ~ ~ u = 0,~ ~ ~ ~ ~ at~ ~ ~ ~ ~y = \\pm \\frac{D}{2} ~ ~ (no-slip)$$\n",
    "$$\\frac{du}{dy} = 0,~ ~ ~ ~ ~at~ ~ ~ ~ ~y = 0 ~ ~ ~ ~ (symmetry)$$\n",
    "\n",
    "would lead into a determined system of two equations and two unknowns and gives values for C1 and C2. Hence, the general form of velocity profile will be as follows:\n",
    "\n",
    "$$ u = \\frac{K' D^2}{16 \\mu} [1 - (\\frac{2y}{D})^2]$$\n",
    "\n",
    "In this equation K' is the only undefined variable. Considering the average velocity across the cross section of the duct one can write:\n",
    "\n",
    "$$ \\bar{V} = \\frac{1}{A} \\int u~dA = \\frac{1}{\\frac{\\pi}{4} D^2} \\int_{0}^{\\frac{D}{2}} u~2\\pi~r~dr = \\frac{K' D^2}{32 \\mu}$$\n",
    "\n",
    "As a result of this algebraic manipulation the general form of velocity profile and pressure gradient across the pipe will be as follows:\n",
    "\n",
    "$$ \\frac{u}{\\bar{V}} = 2~[1 - (\\frac{2y}{D})^2]$$\n",
    "\n",
    "$$ K' = - \\frac{dp}{dx} = \\frac{32 \\mu \\bar{V}}{D^2} $$\n",
    "\n",
    "With this review one has developed an in-depth understanding of the flow and approximate the expected results from the CFD simulations. Now one can move forward to initiate developing the CFD domain and simulations for this problem of interest.\n",
    "\n",
    "> For more details on the physics, theory and equation derivation please see chapter 8 of \"A Physical Introduction to Fluid Mechanics by Alexander J. Smits\" 2nd edition. [Download Book Here!](http://www.efluids.com/efluids/books/efluids_books.htm)"
   ]
  }
 ],
 "metadata": {
  "kernelspec": {
   "display_name": "Python 3",
   "language": "python",
   "name": "python3"
  },
  "language_info": {
   "codemirror_mode": {
    "name": "ipython",
    "version": 3
   },
   "file_extension": ".py",
   "mimetype": "text/x-python",
   "name": "python",
   "nbconvert_exporter": "python",
   "pygments_lexer": "ipython3",
   "version": "3.5.2"
  }
 },
 "nbformat": 4,
 "nbformat_minor": 0
}
