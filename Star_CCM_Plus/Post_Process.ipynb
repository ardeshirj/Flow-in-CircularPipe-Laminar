{
 "cells": [
  {
   "cell_type": "markdown",
   "metadata": {},
   "source": [
    "# CFD Results Post-Process & Validation\n",
    "\n",
    "**The final step for the development of a CFD simulation for a problem of interest is to process and examine the validity of the obtained numerical results (a.k.a post-processing and validation step). These steps requires an in-depth engineering knowledge about the fundamentals of the physical problem of interest. Thus, the value of investing time in understanding the fundamental physics of the flow, once again is highlighted here. This process is done starting from general inspection on CFD simulation results and ends with more detail validation process.**\n",
    "\n",
    "In this section the results for simulation of flow in a circular channel having Reynolds of 64 will be presented, discussed and theoretically validated. It should be noted that the post-processing and validation of all simulations with different Reynolds numbers would be similar to the presented procedure here. The first general rule of thumb to check the convergence of a CFD simulation is to visualize the residuals of key flow field variables, such as continuity, momentum, velocity and etc.. In STAR-CCM+ once user starts to run the simulation, the Residual values for the relative variables, based on the choices of models, are visualized in the solver window. Furthermore, users can manage details of the plotted residuals or add other residuals to be visualized via <span style=style=\"background-color:lightgrey;\">Plots/Residuals</span>.\n",
    "\n",
    "<img src=\"./Images/Re_64_Residuals.png\" width=\"700\">\n",
    "</br>\n",
    "Fig. 1 - Residuals of continuity and momentum in x-direction for simulation of flow in a circular channel having Reynolds of 64.\n",
    "\n",
    "Fig. 1 visualizes the residual values of continuity and momentum in x-direction versus the number of iterations. The general decreasing trend of the residual values confirms that the numerical solution of the conservation/governing equations are converging to specific final values. As a rule of thumb reaching the continuity residual of 10E-3 is the first necessary but not sufficient general criteria to confirm the convergence of the CFD simulation. In this study case this criteria is reached after about 60 iterations and after about 520 iterations the continuity residuals reached value of 1E-12 and plateaued, which is a solid necessary confirmation of CFD simulation convergence. Users can also define criteria to stop the iteration process once the desired criteria is met during the iteration process. These settings are available at via <span style=style=\"background-color:lightgrey;\">Stopping Criteria\\ [right click]</span> path. In the current case study two criteria was set to stop the simulations: 1- Reaching via <span style=style=\"background-color:lightgrey;\">Stopping Criteria\\Maximum Steps</span> of 600 OR 2- Reaching the <span style=style=\"background-color:lightgrey;\">Stopping Criteria\\Continuity Criterion</span> of 1E-15. The core idea behind choosing the these criteria was to make sure that despite the low Reynolds number value the required number of time steps is used to reach a solid convergence. For the case of Re=64 the first criterion was reach first and iterations were stopped after 600 iterations as shown in Fig. 1.\n",
    "\n",
    "The second step is to visualize dimensionless form of the important variables within the CFD domain. This visualization step can be problem specific and should be performed over an adequate plane of choice. For most of the problems contour of normalized velocity or pressure, over a horizontal or vertical plane at the center of the CFD domain, is a good start point. The path to define an adequate probe such as planes or lines is <span style=style=\"background-color:lightgrey;\">Derived Parts/ [right click]</span>. With this path a user can define various type of probes to visualize the obtained numerical results over them. For the current problem user can define a plane in the center of the circular pipe via path of <span style=style=\"background-color:lightgrey;\">Derived Parts/ [right click]/Section/Plane...</span>. For this specific domain the origin of the plane was coincide with the main origin at (0,0,0) and the normal was set to be the Y-axis.\n",
    "\n",
    "User should now define the normalized variable of interest that needs to be visualized. The normalized streamwise velocity by the inlet velocity can be defined using <span style=style=\"background-color:lightgrey;\">Tools/Field Functions/[right click]/New/Scalar</span>. This path will define a variable named `User Field Function 1` in the tree of progress. User should rename this newly defined variable and edit it further in it's window: <span style=style=\"background-color:lightgrey;\">Function Name</span> (i.e. Ux/U0) and put the required formula for the variable of interest with correct syntax under <span style=style=\"background-color:lightgrey;\">Definition</span> (i.e. $${Velocity}[0]/0.01). In this formula is the imposed free stream inlet velocity to match the Reynolds of 64 within the flow field as discussed in the Simulation section. This will calculate the normalized streamwise velocity with free stream velocity within entire CFD domain. It order to visualize the defined normalized flow field variable in the previous step users should use <span style=style=\"background-color:lightgrey;\">Scenes/Scalar Scene 1/Displayers/Scalar 1/Scalar Field</span> and choose the Ux/U0.\n",
    "\n",
    "<img src=\"./Images/velocity_cont_Re64.png\" width=\"700\" align=\"middle\">\n",
    "\n",
    "Fig. 1 shows the zoom-in view of the previously created plane at the entrance of the circular pipe. The flow enters the domain with normalized velocity of 1. Due to the imposed no slip boundary conditions on the pipe's walls, the velocity instantly decrease to zero at this region. Due to this extreme change of momentum within the vertical direction there is going to be a region at the entrance of the pipe where the flow evolves in the streamwise direction. This specific length is referred to as the entrance length. After the entrance length the velocity profile becomes fully developed and uniform to the end of the channel. It should also be highlighted that this velocity contour is smooth. The smoothness confirms the validity of created mesh resolution and convergence of the numerical solution. However, this is an additional necessary, but not sufficient criteria for simulation validity and convergence.\n",
    "\n",
    "**After performing the general post-processing steps, the user need to perform more detail oriented post-processing to confirm the validity of the CFD simulation. This stage can be a state-of-the-art. Comparing the numerical results against the theory (discussed earlier) or any other available experimental results is the final stage of post-processing. It is extremely important to calculate the correct corresponding numerical variables and compare them against the experimental or other numerical data.**\n",
    "\n",
    "In order to visualize the evolution of the velocity along the circular channel within the flow field users should define different probe line/stations downstream the pipe. Since the flow is axi-symmetric each station is defined as a vertical line on the center of the pipe at different distances downstream the pipe. Users can use the path of <span style=style=\"background-color:lightgrey;\">Derived Parts/ [right click]/New Part/Probe/Line...</span> to define multiple measuring stations. This command will ask for coordinates of two points (Point 1 and Point 2) and the Resolution, which is number of points along the line. The coordinates of two points for each measurement station are shown in the following table, where D is the distance downstream in terms of circular pipe diameter. \n",
    "\n",
    "x-coordinates | y-coordinates | z-coordinates\n",
    "----------------|------------|--------------\n",
    "$x_1$ (m) = x * D  | $y_1$ (m) = 0 | $z_1$ (m)=  0.05\n",
    "$x_2$ (m) = x * D  | $y_2$ (m) = 0 | $z_2$ (m)= -0.05\n",
    "\n",
    "It is suggested to create four probe-lines at 1, 3, 25 and 45 diameters downstream the circular pipe. Visualization of the normalized stream velocity along these line-probes would show the complete evolution of the flow field within the CFD domain. Users can visualize the velocity field on these probes using the path of <span style=style=\"background-color:lightgrey;\">Plots/XY Plot</span> and choose the pre-defined line probes as the <span style=style=\"background-color:lightgrey;\">Parts</span> and set the corresponding variables to the axis of interest. Fig. 2 visualizes the outcome of this step:\n",
    "\n",
    "<img src=\"./Images/Re_64_velocity_profiles.png\" width=\"600\">\n",
    "Fig. 2 - Normalized streamwise velocity on various line-probes within the flow along the circular pipe having Reynolds of 64.\n",
    "\n",
    "Fig. 2 visualize the numerically predicted velocity profiles along the pipe at 1, 3, 25 and 45 diameters downstream. As shown in this figure velocity profile evolves along the pipe, from having a skewed parabolic shape to right at the entrance length and getting a become fully developed shape at 25D. As shown in figure 7 velocity profiles at 25 and 45 diameter downstream perfectly match each other. This confirms the fully developed velocity field.\n",
    "\n",
    "As the next step for validation user can compare the numerically predicted fully developed velocity profile against the theoretically derived equation parabolic velocity profile. This step can be done using the <span style=style=\"background-color:lightgrey;\">Export</span> command on the previously obtained numerical results for velocity profiles and create the corresponding velocity profiles using the provided equation in the Physics section. Fig. 3 visualizes a comparison between the numerical and theoretical results for the fully developed velocity profiles at 25D downstream. As shown in this figure numerical results perfectly matches the theoretical results. \n",
    "\n",
    "<img src=\"./Images/Re_64_velocity_profiles_validation.png\" width=\"500\">\n",
    "Fig. 3 - Comparison between numerically and theoretically calculated normalized streamwise (fully-developed) velocity profile on 25D downstream the circular pipe having Reynolds of 64.\n",
    "\n",
    "As the final step for CFD simulation validation user can compare the numerically estimated pressure gradient per unit length ($\\frac{dp}{dx}$) between the inlet and outlet of the pipe gradient per unit length. This can be numerically estimated by creating a horizontal line-probe at the center of the channel and read the pressure difference between the start and end of this line. This value can then be compared against the theoretically derived Hagen–Poiseuille equation (i.e. the last equation derived in Physics section). The following table shows this comparison for the current CFD simulations. The relative error of less than 6% confirms the validity of the obtained numerical results.\n",
    "\n",
    "\n",
    " |Theory|CFD|Relative Error [%]\n",
    "---|---|---|---\n",
    "$-\\frac{dP}{dx}$|5.73e-4|6.02e-4|5.11\n",
    "\n",
    "\n",
    "At this stage one can conclude that this CFD numerical simulation is validated to study laminar flow in circular pipes. Therefore, it can be used for similar or more complex problems, such as flow with specified pressure gradient, non-uniform velocity profiles and etc.. This can be done via correct implementation in changing the corresponding boundary conditions.\n",
    "\n"
   ]
  }
 ],
 "metadata": {
  "kernelspec": {
   "display_name": "Python 3",
   "language": "python",
   "name": "python3"
  },
  "language_info": {
   "codemirror_mode": {
    "name": "ipython",
    "version": 3
   },
   "file_extension": ".py",
   "mimetype": "text/x-python",
   "name": "python",
   "nbconvert_exporter": "python",
   "pygments_lexer": "ipython3",
   "version": "3.5.2"
  }
 },
 "nbformat": 4,
 "nbformat_minor": 0
}
